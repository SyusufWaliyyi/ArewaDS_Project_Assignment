{
 "cells": [
  {
   "cell_type": "markdown",
   "metadata": {},
   "source": [
    "# ___ROLLING DICE WITH PYGAL___"
   ]
  },
  {
   "cell_type": "markdown",
   "metadata": {},
   "source": [
    "This section will explore the use of python visualization package Pygal to produce scalable graphics files. To install the Pygal visualization package use the following command line in your python IDLE __pip install pygal__ and use the following command line in your python to import the Pygal visualization module __import pygal__.\n",
    "However, in this section the __for loops__ method will be replaced with list comprehension looping method."
   ]
  },
  {
   "cell_type": "code",
   "execution_count": 32,
   "metadata": {},
   "outputs": [],
   "source": [
    "from die import Die\n",
    "import pygal"
   ]
  },
  {
   "cell_type": "markdown",
   "metadata": {},
   "source": [
    "__Rolling the Die__\n",
    "\n",
    "Here the die is going to be roll before creating the visualization based on the class. Let's roll a D6"
   ]
  },
  {
   "cell_type": "code",
   "execution_count": 33,
   "metadata": {},
   "outputs": [
    {
     "name": "stdout",
     "output_type": "stream",
     "text": [
      "Result of rolling D6 100 times: [4, 1, 5, 4, 5, 4, 4, 3, 2, 4, 4, 5, 1, 6, 5, 6, 1, 3, 4, 5, 6, 4, 1, 1, 4, 5, 1, 5, 3, 4, 6, 1, 4, 4, 2, 6, 3, 3, 2, 6, 6, 5, 4, 3, 5, 1, 2, 2, 2, 3, 3, 5, 2, 4, 5, 3, 4, 4, 1, 3, 3, 4, 5, 2, 5, 4, 5, 6, 4, 4, 3, 6, 6, 5, 3, 3, 1, 2, 1, 2, 6, 1, 1, 4, 5, 3, 1, 1, 6, 6, 1, 4, 1, 5, 1, 1, 6, 4, 2, 3]\n"
     ]
    }
   ],
   "source": [
    "# Rolling the D6 1000 times\n",
    "die = Die()\n",
    "\n",
    "results = []\n",
    "\n",
    "for roll_num in range(100):\n",
    "    result = die.roll()\n",
    "    results.append(result)\n",
    "\n",
    "print(f'Result of rolling D6 100 times: {results}')"
   ]
  },
  {
   "cell_type": "markdown",
   "metadata": {},
   "source": [
    "__Analyzing the results__\n",
    "\n",
    "\n",
    "The results of running D6 1000 times will be analyzed. Previously, the number of times the simulation runs was 100. However, to explore the advantage of offered by pygal, the simulation will be run 1000 times.\n",
    "To achieve this, the following steps will be taken\n",
    "1. Create an empty list for frequencies each value occur\n",
    "2. Loop through to find the possible values (1 through 6 for a six_sided die)\n",
    "3. Count the number of times each number appears in the results\n",
    "4. Last is to append the values to the frequency list\n",
    "5. Use print functions to print the frequency list"
   ]
  },
  {
   "cell_type": "code",
   "execution_count": 34,
   "metadata": {},
   "outputs": [
    {
     "name": "stdout",
     "output_type": "stream",
     "text": [
      "[174, 168, 169, 179, 171, 139]\n"
     ]
    }
   ],
   "source": [
    "results = [die.roll() for _ in range(1000)]\n",
    "\n",
    "# Analyze the results\n",
    "frequencies = [results.count(value) for value in range(1, die.num_sides+1)]\n",
    "\n",
    "print(frequencies)"
   ]
  },
  {
   "cell_type": "markdown",
   "metadata": {},
   "source": [
    "As expected, the frequencies printed in the output are 6. This is reasonable since a six-sided die was simulated 1000 times. The summation of the frequencies is exactly the number of times the simulation runs (i.e 1000)"
   ]
  },
  {
   "cell_type": "markdown",
   "metadata": {},
   "source": [
    "_Making a Histogram_\n",
    "\n",
    "\n",
    "The list of frequencies can be used to present the rolling of dice in a histogram. A histogram is a bar chart displaying the number of times a particular results occur."
   ]
  },
  {
   "cell_type": "code",
   "execution_count": 35,
   "metadata": {},
   "outputs": [],
   "source": [
    "hist = pygal.Bar()\n",
    "\n",
    "hist.title = \"Results of rolling one D6 1000 times.\"\n",
    "hist.x_labels = [str(x) for x in range(1, die.num_sides+1)]\n",
    "hist.x_title = \"Results\"\n",
    "hist.y_title = \"Frequency of Results\"\n",
    "\n",
    "hist.add('D6', frequencies)\n",
    "hist.render_to_file('die.visual.svg')"
   ]
  },
  {
   "cell_type": "markdown",
   "metadata": {},
   "source": [
    "_Rolling Two Dice_\n",
    "\n",
    "_Rolling Two Similar Dice_\n",
    "\n",
    "The following code will create two six-sided dice and simulate rolling them 1000 times. The results will be stored in a list and then a histogram will be created to visualize the results."
   ]
  },
  {
   "cell_type": "code",
   "execution_count": 36,
   "metadata": {},
   "outputs": [],
   "source": [
    "die_1 = Die()\n",
    "die_2 = Die()\n",
    "\n",
    "results = [die_1.roll() + die_2.roll() for roll_num in range(1000)]\n",
    "\n",
    "max_result = die_1.num_sides + die_2.num_sides\n",
    "frequencies = [results.count(value) for value in range(2, max_result+1)]\n",
    "\n",
    "\n",
    "\n",
    "# Making the Histogram\n",
    "hist = pygal.Bar()\n",
    "hist.title = \"Results of rolling two D6 1000 times.\"\n",
    "hist.x_labels = [str(x) for x in range(2, max_result+1)]\n",
    "hist.x_title = \"Results\"\n",
    "hist.y_title = \"Frequency of Results\"\n",
    "\n",
    "hist.add('D6 + D6', frequencies)\n",
    "hist.render_to_file('diceD10.visual.svg') "
   ]
  },
  {
   "cell_type": "markdown",
   "metadata": {},
   "source": [
    "_Rolling Dice of Different Sizes_\n",
    "\n",
    "_Rolling Two Dice of Different Sizes_\n",
    "\n",
    "A six_sided die and ten_sided die will be created and see the results of rolling them 50,000 times."
   ]
  },
  {
   "cell_type": "code",
   "execution_count": 37,
   "metadata": {},
   "outputs": [],
   "source": [
    "# create a D6 and a D10\n",
    "die_6 = Die()\n",
    "die_10 = Die(10)\n",
    "\n",
    "# Making some rolls using list comprehension\n",
    "results = [die_6.roll() + die_10.roll() for roll_num in range(50000)]\n",
    "\n",
    "\n",
    "# Result analysis\n",
    "max_results = die_6.num_sides + die_10.num_sides\n",
    "frequencies = [results.count(value) for value in range(2, max_results+1)]\n",
    "\n",
    "\n",
    "# Results visualization\n",
    "hist = pygal.Bar()\n",
    "\n",
    "hist.title = \"Results of rolling a D6 and a D10 50,000 times.\"\n",
    "hist.x_labels = [str(x) for x in range(2, max_results+1)]\n",
    "hist.x_title = \"Results\"\n",
    "hist.y_title = \"Frequency of Results\"\n",
    "\n",
    "hist.add('D6 + D10', frequencies)\n",
    "hist.render_to_file('diceD6D10.visual.svg')"
   ]
  },
  {
   "cell_type": "markdown",
   "metadata": {},
   "source": [
    "_Rolling Three Dice of Different Sizes_\n",
    "\n",
    "A six_sided die, ten_sided die and fifteen_sided die will be created and see the results of rolling them 500,000 times."
   ]
  },
  {
   "cell_type": "code",
   "execution_count": 38,
   "metadata": {},
   "outputs": [],
   "source": [
    "# create a D6 and a D10\n",
    "die_6 = Die()\n",
    "die_10 = Die(10)\n",
    "die_15 = Die(15)\n",
    "\n",
    "# make some rolls and store results in a list\n",
    "results = [die_6.roll() + die_10.roll() + die_15.roll() for roll_num in range(500000)]\n",
    "\n",
    "# Analyze the results\n",
    "max_results = die_6.num_sides + die_10.num_sides + die_15.num_sides\n",
    "frequencies = [results.count(value) for value in range(2, max_results+1)]\n",
    "    \n",
    "# Visualize the results\n",
    "hist = pygal.Bar()\n",
    "\n",
    "hist.title = \"Results of rolling a D6 and a D10 50,000 times.\"\n",
    "hist.x_labels = [str(x) for x in range(7, max_results+1)]\n",
    "hist.x_title = \"Results\"\n",
    "hist.y_title = \"Frequency of Results\"\n",
    "\n",
    "hist.add('D6 + D10 + D15', frequencies)\n",
    "hist.render_to_file('diceD6D10D15.visual.svg')"
   ]
  },
  {
   "cell_type": "markdown",
   "metadata": {},
   "source": [
    "__15-7. Two D8s__\n",
    "Create a simulation showing what happens if you roll two eight_sided dice 1000 times. Increase the number of rolls gradually until you start to\n",
    "see the limits of your system’s capabilities."
   ]
  },
  {
   "cell_type": "code",
   "execution_count": 42,
   "metadata": {},
   "outputs": [],
   "source": [
    "die_8 = Die(8)\n",
    "\n",
    "results = [die_8.roll() + die_8.roll() for roll_num in range(1000)]\n",
    "\n",
    "max_result = die_8.num_sides + die_8.num_sides\n",
    "frequencies = [results.count(value) for value in range(2, max_result+1)]\n",
    "\n",
    "\n",
    "\n",
    "# Making the Histogram\n",
    "hist = pygal.Bar()\n",
    "hist.title = \"Results of rolling two D8 1000 times.\"\n",
    "hist.x_labels = [str(x) for x in range(2, max_result+1)]\n",
    "hist.x_title = \"Results\"\n",
    "hist.y_title = \"Frequency of Results\"\n",
    "\n",
    "hist.add('3D8', frequencies)\n",
    "hist.render_to_file('dieD8.visual.svg') "
   ]
  },
  {
   "cell_type": "markdown",
   "metadata": {},
   "source": [
    "__Three Dice__ \n",
    "\n",
    "If you roll three D6 dice, the smallest number you can roll is 3 and the largest number is 18. Create a visualization that shows what happens when you roll three D6 dice."
   ]
  },
  {
   "cell_type": "code",
   "execution_count": 43,
   "metadata": {},
   "outputs": [],
   "source": [
    "results = [die_1.roll() + die_1.roll() + die_1.roll() for roll_num in range(1000)]\n",
    "\n",
    "max_result = die_1.num_sides + die_1.num_sides + die_1.num_sides\n",
    "frequencies = [results.count(value) for value in range(2, max_result+1)]\n",
    "\n",
    "\n",
    "\n",
    "# Making the Histogram\n",
    "hist = pygal.Bar()\n",
    "hist.title = \"Results of rolling two D6 1000 times.\"\n",
    "hist.x_labels = [str(x) for x in range(2, max_result+1)]\n",
    "hist.x_title = \"Results\"\n",
    "hist.y_title = \"Frequency of Results\"\n",
    "\n",
    "hist.add('3D6', frequencies)\n",
    "hist.render_to_file('dice3D06.visual.svg') "
   ]
  }
 ],
 "metadata": {
  "kernelspec": {
   "display_name": "Python 3",
   "language": "python",
   "name": "python3"
  },
  "language_info": {
   "codemirror_mode": {
    "name": "ipython",
    "version": 3
   },
   "file_extension": ".py",
   "mimetype": "text/x-python",
   "name": "python",
   "nbconvert_exporter": "python",
   "pygments_lexer": "ipython3",
   "version": "3.13.0"
  }
 },
 "nbformat": 4,
 "nbformat_minor": 2
}
