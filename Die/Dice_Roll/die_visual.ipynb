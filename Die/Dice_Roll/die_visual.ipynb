{
 "cells": [
  {
   "cell_type": "markdown",
   "metadata": {},
   "source": [
    "# ___ROLLING DICE WITH PYGAL___"
   ]
  },
  {
   "cell_type": "markdown",
   "metadata": {},
   "source": [
    "This section will explore the use of python visualization package Pygal to produce scalable graphics files. To install the Pygal visualization package use the following command line in your python IDLE __pip install pygal__ and use the following command line in your python to import the Pygal visualization module __import pygal__."
   ]
  },
  {
   "cell_type": "code",
   "execution_count": 1,
   "metadata": {},
   "outputs": [],
   "source": [
    "from die import Die\n",
    "import pygal"
   ]
  },
  {
   "cell_type": "markdown",
   "metadata": {},
   "source": [
    "__Rolling the Die__\n",
    "\n",
    "Here the die is going to be roll before creating the visualization based on the class. Let's roll a D6"
   ]
  },
  {
   "cell_type": "code",
   "execution_count": 2,
   "metadata": {},
   "outputs": [
    {
     "name": "stdout",
     "output_type": "stream",
     "text": [
      "Result of rolling D6 100 times: [5, 1, 1, 5, 4, 3, 2, 4, 4, 3, 3, 2, 5, 2, 4, 3, 3, 1, 6, 3, 1, 6, 2, 3, 3, 1, 1, 3, 3, 5, 3, 3, 2, 4, 2, 3, 1, 4, 3, 5, 5, 2, 6, 5, 6, 1, 3, 3, 2, 5, 3, 5, 1, 4, 2, 1, 4, 4, 5, 6, 3, 1, 3, 5, 6, 6, 6, 2, 2, 4, 3, 1, 3, 4, 2, 1, 4, 3, 6, 1, 4, 5, 4, 6, 1, 3, 3, 1, 1, 5, 4, 4, 4, 6, 6, 2, 6, 4, 3, 6]\n"
     ]
    }
   ],
   "source": [
    "# Rolling the D6 1000 times\n",
    "die = Die()\n",
    "\n",
    "results = []\n",
    "\n",
    "for roll_num in range(100):\n",
    "    result = die.roll()\n",
    "    results.append(result)\n",
    "\n",
    "print(f'Result of rolling D6 100 times: {results}')"
   ]
  },
  {
   "cell_type": "markdown",
   "metadata": {},
   "source": [
    "__Analyzing the results__\n",
    "\n",
    "The results of running D6 1000 times will be analyzed. Previously, the number of times the simulation runs was 100. However, to explore the advantage of offered by pygal, the simulation will be run 1000 times.\n",
    "To achieve this, the following steps will be taken\n",
    "1. Create an empty list for frequencies each value occur\n",
    "2. Loop through to find the possible values (1 through 6 for a six_sided die)\n",
    "3. Count the number of times each number appears in the results\n",
    "4. Last is to append the values to the frequency list\n",
    "5. Use print functions to print the frequency list"
   ]
  },
  {
   "cell_type": "code",
   "execution_count": 3,
   "metadata": {},
   "outputs": [
    {
     "name": "stdout",
     "output_type": "stream",
     "text": [
      "The frequency of each value is: [177, 157, 168, 169, 152, 177]\n"
     ]
    }
   ],
   "source": [
    "results = []\n",
    "for roll_num in range(1000):\n",
    "    result = die.roll()\n",
    "    results.append(result)\n",
    "\n",
    "# Analyze the results\n",
    "frequencies = []\n",
    "\n",
    "for value in range(1, die.num_sides+1):\n",
    "    frequency = results.count(value)\n",
    "    frequencies.append(frequency)\n",
    "\n",
    "print(f\"The frequency of each value is: {frequencies}\")"
   ]
  },
  {
   "cell_type": "markdown",
   "metadata": {},
   "source": [
    "As expected, the frequencies printed in the output are 6. This is reasonable since a six-sided die was simulated 1000 times. The summation of the frequencies is exactly the number of times the simulation runs (i.e 1000)"
   ]
  },
  {
   "cell_type": "markdown",
   "metadata": {},
   "source": [
    "_Making a Histogram_\n",
    "\n",
    "The list of frequencies can be used to present the rolling of dice in a histogram. A histogram is a bar chart displaying the number of times a particular results occur."
   ]
  },
  {
   "cell_type": "code",
   "execution_count": 4,
   "metadata": {},
   "outputs": [],
   "source": [
    "hist = pygal.Bar()\n",
    "\n",
    "hist.title = \"Results of rolling one D6 1000 times.\"\n",
    "hist.x_labels = ['1', '2', '3', '4', '5', '6']\n",
    "hist.x_title = \"Results\"\n",
    "hist.y_title = \"Frequency of Results\"\n",
    "\n",
    "hist.add('D6', frequencies)\n",
    "hist.render_to_file('die.visual.svg')"
   ]
  },
  {
   "cell_type": "markdown",
   "metadata": {},
   "source": [
    "## __Rolling Two Dice__"
   ]
  },
  {
   "cell_type": "markdown",
   "metadata": {},
   "source": [
    "_Rolling Two Similar Dice_\n",
    "\n",
    "The following code will create two six-sided dice and simulate rolling them 1000 times. The results will be stored in a list and then a histogram will be created to visualize the results."
   ]
  },
  {
   "cell_type": "code",
   "execution_count": 5,
   "metadata": {},
   "outputs": [],
   "source": [
    "die_1 = Die()\n",
    "die_2 = Die()\n",
    "\n",
    "results = []\n",
    "for roll_num in range(1000):\n",
    "    result = die_1.roll() + die_2.roll()\n",
    "    results.append(result)\n",
    "\n",
    "frequencies = []\n",
    "max_result = die_1.num_sides + die_2.num_sides\n",
    "for value in range(2, max_result+1):\n",
    "    frequency = results.count(value)\n",
    "    frequencies.append(frequency)\n",
    "\n",
    "# Making the Histogram\n",
    "hist = pygal.Bar()\n",
    "hist.title = \"Results of rolling two D6 1000 times.\"\n",
    "hist.x_labels = ['2', '3', '4', '5', '6', '7', '8', '9', '10', '11', '12']\n",
    "hist.x_title = \"Results\"\n",
    "hist.y_title = \"Frequency of Results\"\n",
    "\n",
    "hist.add('D6 + D6', frequencies)\n",
    "hist.render_to_file('diceD10.visual.svg') "
   ]
  },
  {
   "cell_type": "markdown",
   "metadata": {},
   "source": [
    "_Rolling Dice of Different Sizes_\n",
    "\n",
    "_Rolling Two Dice of Different Sizes_\n",
    "\n",
    "A six_sided die and ten_sided die will be created and see the results of rolling them 50,000 times."
   ]
  },
  {
   "cell_type": "code",
   "execution_count": 6,
   "metadata": {},
   "outputs": [],
   "source": [
    "# create a D6 and a D10\n",
    "die_6 = Die()\n",
    "die_10 = Die(10)\n",
    "\n",
    "# make some rolls and store results in a list\n",
    "results = []\n",
    "for roll_num in range(50000):\n",
    "    result = die_6.roll() + die_10.roll()\n",
    "    results.append(result)\n",
    "\n",
    "# Analyze the results\n",
    "frequencies = []\n",
    "max_results = die_6.num_sides + die_10.num_sides\n",
    "for value in range(2, max_results+1):\n",
    "    frequency = results.count(value)\n",
    "    frequencies.append(frequency)\n",
    "    \n",
    "# Visualize the results\n",
    "hist = pygal.Bar()\n",
    "\n",
    "hist.title = \"Results of rolling a D6 and a D10 50,000 times.\"\n",
    "hist.x_labels = ['2', '3', '4', '5', '6', '7', '8', '9', '10', '11','12', '13', '14', '15', '16']\n",
    "hist.x_title = \"Results\"\n",
    "hist.y_title = \"Frequency of Results\"\n",
    "\n",
    "hist.add('D6 + D10', frequencies)\n",
    "hist.render_to_file('diceD6D10.visual.svg')"
   ]
  },
  {
   "cell_type": "markdown",
   "metadata": {},
   "source": [
    "_Rolling Three Dice of Different Sizes_\n",
    "\n",
    "A six_sided die, ten_sided die and fifteen_sided die will be created and see the results of rolling them 500,000 times."
   ]
  },
  {
   "cell_type": "code",
   "execution_count": 7,
   "metadata": {},
   "outputs": [],
   "source": [
    "# create a D6 and a D10\n",
    "die_6 = Die()\n",
    "die_10 = Die(10)\n",
    "die_15 = Die(15)\n",
    "\n",
    "# make some rolls and store results in a list\n",
    "results = []\n",
    "for roll_num in range(500000):\n",
    "    result = die_6.roll() + die_10.roll() + die_15.roll()\n",
    "    results.append(result)\n",
    "\n",
    "# Analyze the results\n",
    "frequencies = []\n",
    "max_results = die_6.num_sides + die_10.num_sides + die_15.num_sides\n",
    "for value in range(2, max_results+1):\n",
    "    frequency = results.count(value)\n",
    "    frequencies.append(frequency)\n",
    "    \n",
    "# Visualize the results\n",
    "hist = pygal.Bar()\n",
    "\n",
    "hist.title = \"Results of rolling a D6 and a D10 50,000 times.\"\n",
    "hist.x_labels = ['7', '8', '9', '10', '11','12', '13', '14', '15', '16', '17', '18', '19', '20', '21', '22', '23', '24', '25', '26', '27', '28', '29', '30', '31', '32', '33', '34', '35', '36']\n",
    "hist.x_title = \"Results\"\n",
    "hist.y_title = \"Frequency of Results\"\n",
    "\n",
    "hist.add('D6 + D10 + D15', frequencies)\n",
    "hist.render_to_file('diceD6D10D15.visual.svg')"
   ]
  }
 ],
 "metadata": {
  "kernelspec": {
   "display_name": "Python 3",
   "language": "python",
   "name": "python3"
  },
  "language_info": {
   "codemirror_mode": {
    "name": "ipython",
    "version": 3
   },
   "file_extension": ".py",
   "mimetype": "text/x-python",
   "name": "python",
   "nbconvert_exporter": "python",
   "pygments_lexer": "ipython3",
   "version": "3.13.0"
  }
 },
 "nbformat": 4,
 "nbformat_minor": 2
}
