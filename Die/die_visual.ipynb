{
 "cells": [
  {
   "cell_type": "markdown",
   "metadata": {},
   "source": [
    "# ___DIE___"
   ]
  },
  {
   "cell_type": "code",
   "execution_count": 41,
   "metadata": {},
   "outputs": [],
   "source": [
    "from die import Die\n",
    "import pygal"
   ]
  },
  {
   "cell_type": "markdown",
   "metadata": {},
   "source": [
    "__Rolling the Die__"
   ]
  },
  {
   "cell_type": "code",
   "execution_count": 42,
   "metadata": {},
   "outputs": [
    {
     "name": "stdout",
     "output_type": "stream",
     "text": [
      "[4, 5, 2, 3, 5, 3, 5, 6, 1, 6, 4, 2, 1, 2, 4, 3, 3, 3, 2, 2, 2, 5, 6, 1, 3, 1, 5, 6, 5, 2, 3, 1, 1, 6, 1, 3, 1, 1, 3, 5, 4, 5, 1, 6, 3, 1, 4, 3, 6, 1, 4, 1, 6, 1, 2, 3, 3, 1, 5, 4, 4, 6, 1, 3, 6, 1, 2, 2, 4, 3, 3, 3, 5, 4, 3, 3, 6, 1, 3, 2, 2, 1, 5, 5, 1, 6, 5, 5, 2, 4, 6, 5, 3, 1, 5, 3, 1, 5, 4, 2]\n"
     ]
    }
   ],
   "source": [
    "die = Die()\n",
    "\n",
    "results = []\n",
    "\n",
    "for roll_num in range(100):\n",
    "    result = die.roll()\n",
    "    results.append(result)\n",
    "\n",
    "print(results)"
   ]
  },
  {
   "cell_type": "markdown",
   "metadata": {},
   "source": [
    "__Analyzing the results__"
   ]
  },
  {
   "cell_type": "code",
   "execution_count": 43,
   "metadata": {},
   "outputs": [
    {
     "name": "stdout",
     "output_type": "stream",
     "text": [
      "[182, 177, 147, 157, 164, 173]\n"
     ]
    }
   ],
   "source": [
    "results = []\n",
    "for roll_num in range(1000):\n",
    "    result = die.roll()\n",
    "    results.append(result)\n",
    "    \n",
    "frequencies = []\n",
    "\n",
    "for value in range(1, die.num_sides+1):\n",
    "    frequency = results.count(value)\n",
    "    frequencies.append(frequency)\n",
    "\n",
    "print(frequencies)"
   ]
  },
  {
   "cell_type": "markdown",
   "metadata": {},
   "source": [
    "_Making a Histogram_"
   ]
  },
  {
   "cell_type": "code",
   "execution_count": 44,
   "metadata": {},
   "outputs": [],
   "source": [
    "hist = pygal.Bar()\n",
    "\n",
    "hist.title = \"Results of rolling one D6 1000 times.\"\n",
    "hist.x_labels = ['1', '2', '3', '4', '5', '6']\n",
    "hist.x_title = \"Results\"\n",
    "hist.y_title = \"Frequency of Results\"\n",
    "\n",
    "hist.add('D6', frequencies)\n",
    "hist.render_to_file('die.visual.svg')"
   ]
  },
  {
   "cell_type": "markdown",
   "metadata": {},
   "source": [
    "_Rolling Two Dice"
   ]
  },
  {
   "cell_type": "code",
   "execution_count": 45,
   "metadata": {},
   "outputs": [],
   "source": [
    "die_1 = Die()\n",
    "die_2 = Die()\n",
    "\n",
    "results = []\n",
    "for roll_num in range(1000):\n",
    "    result = die_1.roll() + die_2.roll()\n",
    "    results.append(result)\n",
    "\n",
    "frequencies = []\n",
    "max_result = die_1.num_sides + die_2.num_sides\n",
    "for value in range(2, max_result+1):\n",
    "    frequency = results.count(value)\n",
    "    frequencies.append(frequency)\n",
    "\n",
    "hist = pygal.Bar()\n",
    "hist.title = \"Results of rolling two D6 1000 times.\"\n",
    "hist.x_labels = ['1', '2', '3', '4', '5', '6', '7', '8', '9', '10', '11', '12']\n",
    "hist.x_title = \"Results\"\n",
    "hist.y_title = \"Frequency of Results\"\n",
    "\n",
    "hist.add('D6 + D6', frequencies)\n",
    "hist.render_to_file('die.visual.svg1') "
   ]
  },
  {
   "cell_type": "markdown",
   "metadata": {},
   "source": [
    "_Rolling Dice of Different Sizes_\n",
    "A six_sided die and ten_sided die will be created and see the results of rolling them 50,000 times."
   ]
  },
  {
   "cell_type": "code",
   "execution_count": 46,
   "metadata": {},
   "outputs": [
    {
     "ename": "_IncompleteInputError",
     "evalue": "incomplete input (2276860877.py, line 7)",
     "output_type": "error",
     "traceback": [
      "\u001b[1;36m  Cell \u001b[1;32mIn[46], line 7\u001b[1;36m\u001b[0m\n\u001b[1;33m    for roll_num in range(50000):\u001b[0m\n\u001b[1;37m                                 ^\u001b[0m\n\u001b[1;31m_IncompleteInputError\u001b[0m\u001b[1;31m:\u001b[0m incomplete input\n"
     ]
    }
   ],
   "source": [
    "# create a D6 and a D10\n",
    "die_6 = Die()\n",
    "die_10 = Die(10)\n",
    "\n",
    "# make some rolls and store results in a list\n",
    "results = []\n",
    "for roll_num in range(50000):\n",
    "    results = die_6.roll() + die_10.roll()\n",
    "    results.append(result)\n",
    "\n",
    "# Visual the results\n",
    "hist = pygal.Bar()\n",
    "\n",
    "hist.title = \"Results of rolling a D6 and a D10 50,000 times.\"\n",
    "hist.x_labels = ['1', '2', '3', '4', '5', '6', '7', '8', '9', '10', '11','12', '13', '14', '15', '16']\n",
    "hist.x_title = \"Results\"\n",
    "hist.y_title = \"Frequency of Results\"\n",
    "\n",
    "hist.add('D6 + D10', frequencies)\n",
    "hist.render_to_file('die.visual.svg2')"
   ]
  }
 ],
 "metadata": {
  "kernelspec": {
   "display_name": "Python 3",
   "language": "python",
   "name": "python3"
  },
  "language_info": {
   "codemirror_mode": {
    "name": "ipython",
    "version": 3
   },
   "file_extension": ".py",
   "mimetype": "text/x-python",
   "name": "python",
   "nbconvert_exporter": "python",
   "pygments_lexer": "ipython3",
   "version": "3.13.0"
  }
 },
 "nbformat": 4,
 "nbformat_minor": 2
}
