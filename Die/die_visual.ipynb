{
 "cells": [
  {
   "cell_type": "markdown",
   "metadata": {},
   "source": [
    "# ___ROLLING DICE WITH PYGAL___"
   ]
  },
  {
   "cell_type": "markdown",
   "metadata": {},
   "source": [
    "This section will explore the use of python visualization package Pygal to produce scalable graphics files. To install the Pygal visualization package use the following command line in your python IDLE __pip install pygal__ and use the following command line in your python to import the Pygal visualization module __import pygal__."
   ]
  },
  {
   "cell_type": "code",
   "execution_count": 75,
   "metadata": {},
   "outputs": [],
   "source": [
    "from die import Die\n",
    "import pygal"
   ]
  },
  {
   "cell_type": "markdown",
   "metadata": {},
   "source": [
    "__Rolling the Die__\n",
    "Here the die is going to be roll before creating the visualization based on the class. Let's roll a D6"
   ]
  },
  {
   "cell_type": "code",
   "execution_count": 76,
   "metadata": {},
   "outputs": [
    {
     "name": "stdout",
     "output_type": "stream",
     "text": [
      "Result of rolling D6 100 times: [3, 4, 3, 5, 1, 2, 6, 2, 4, 6, 1, 4, 2, 5, 3, 2, 5, 4, 1, 5, 4, 4, 2, 6, 6, 2, 5, 2, 4, 1, 2, 3, 2, 4, 6, 1, 3, 2, 2, 1, 1, 1, 2, 4, 5, 4, 4, 1, 6, 4, 3, 6, 2, 1, 5, 5, 5, 4, 3, 3, 5, 4, 4, 1, 3, 6, 2, 2, 4, 6, 6, 4, 6, 2, 2, 1, 3, 4, 1, 5, 5, 4, 4, 2, 2, 2, 5, 4, 4, 2, 4, 6, 1, 5, 1, 4, 3, 1, 2, 2]\n"
     ]
    }
   ],
   "source": [
    "# Rolling the D6 1000 times\n",
    "die = Die()\n",
    "\n",
    "results = []\n",
    "\n",
    "for roll_num in range(100):\n",
    "    result = die.roll()\n",
    "    results.append(result)\n",
    "\n",
    "print(f'Result of rolling D6 100 times: {results}')"
   ]
  },
  {
   "cell_type": "markdown",
   "metadata": {},
   "source": [
    "__Analyzing the results__\n",
    "The results of running D6 1000 times will be analyzed"
   ]
  },
  {
   "cell_type": "code",
   "execution_count": 77,
   "metadata": {},
   "outputs": [
    {
     "name": "stdout",
     "output_type": "stream",
     "text": [
      "[187, 189, 152, 159, 146, 167]\n"
     ]
    }
   ],
   "source": [
    "results = []\n",
    "for roll_num in range(1000):\n",
    "    result = die.roll()\n",
    "    results.append(result)\n",
    "\n",
    "# Analyze the results\n",
    "frequencies = []\n",
    "\n",
    "for value in range(1, die.num_sides+1):\n",
    "    frequency = results.count(value)\n",
    "    frequencies.append(frequency)\n",
    "\n",
    "print(frequencies)"
   ]
  },
  {
   "cell_type": "markdown",
   "metadata": {},
   "source": [
    "_Making a Histogram_"
   ]
  },
  {
   "cell_type": "code",
   "execution_count": 78,
   "metadata": {},
   "outputs": [],
   "source": [
    "hist = pygal.Bar()\n",
    "\n",
    "hist.title = \"Results of rolling one D6 1000 times.\"\n",
    "hist.x_labels = ['1', '2', '3', '4', '5', '6']\n",
    "hist.x_title = \"Results\"\n",
    "hist.y_title = \"Frequency of Results\"\n",
    "\n",
    "hist.add('D6', frequencies)\n",
    "hist.render_to_file('die.visual.svg')"
   ]
  },
  {
   "cell_type": "markdown",
   "metadata": {},
   "source": [
    "_Rolling Two Dice_"
   ]
  },
  {
   "cell_type": "code",
   "execution_count": 79,
   "metadata": {},
   "outputs": [],
   "source": [
    "die_1 = Die()\n",
    "die_2 = Die()\n",
    "\n",
    "results = []\n",
    "for roll_num in range(1000):\n",
    "    result = die_1.roll() + die_2.roll()\n",
    "    results.append(result)\n",
    "\n",
    "frequencies = []\n",
    "max_result = die_1.num_sides + die_2.num_sides\n",
    "for value in range(2, max_result+1):\n",
    "    frequency = results.count(value)\n",
    "    frequencies.append(frequency)\n",
    "\n",
    "# Making the Histogram\n",
    "hist = pygal.Bar()\n",
    "hist.title = \"Results of rolling two D6 1000 times.\"\n",
    "hist.x_labels = ['1', '2', '3', '4', '5', '6', '7', '8', '9', '10', '11', '12']\n",
    "hist.x_title = \"Results\"\n",
    "hist.y_title = \"Frequency of Results\"\n",
    "\n",
    "hist.add('D6 + D6', frequencies)\n",
    "hist.render_to_file('diceD10.visual.svg') "
   ]
  },
  {
   "cell_type": "markdown",
   "metadata": {},
   "source": [
    "_Rolling Dice of Different Sizes_\n",
    "\n",
    "A six_sided die and ten_sided die will be created and see the results of rolling them 50,000 times."
   ]
  },
  {
   "cell_type": "code",
   "execution_count": 80,
   "metadata": {},
   "outputs": [],
   "source": [
    "# create a D6 and a D10\n",
    "die_6 = Die()\n",
    "die_10 = Die(10)\n",
    "\n",
    "# make some rolls and store results in a list\n",
    "results = []\n",
    "for roll_num in range(50000):\n",
    "    result = die_6.roll() + die_10.roll()\n",
    "    results.append(result)\n",
    "\n",
    "# Analyze the results\n",
    "frequencies = []\n",
    "max_results = die_6.num_sides + die_10.num_sides\n",
    "for value in range(2, max_results+1):\n",
    "    frequency = results.count(value)\n",
    "    frequencies.append(frequency)\n",
    "    \n",
    "# Visualize the results\n",
    "hist = pygal.Bar()\n",
    "\n",
    "hist.title = \"Results of rolling a D6 and a D10 50,000 times.\"\n",
    "hist.x_labels = ['1', '2', '3', '4', '5', '6', '7', '8', '9', '10', '11','12', '13', '14', '15', '16']\n",
    "hist.x_title = \"Results\"\n",
    "hist.y_title = \"Frequency of Results\"\n",
    "\n",
    "hist.add('D6 + D10', frequencies)\n",
    "hist.render_to_file('diceD6D10.visual.svg')"
   ]
  }
 ],
 "metadata": {
  "kernelspec": {
   "display_name": "Python 3",
   "language": "python",
   "name": "python3"
  },
  "language_info": {
   "codemirror_mode": {
    "name": "ipython",
    "version": 3
   },
   "file_extension": ".py",
   "mimetype": "text/x-python",
   "name": "python",
   "nbconvert_exporter": "python",
   "pygments_lexer": "ipython3",
   "version": "3.13.0"
  }
 },
 "nbformat": 4,
 "nbformat_minor": 2
}
